{
 "cells": [
  {
   "cell_type": "markdown",
   "metadata": {},
   "source": [
    "# Coursework1"
   ]
  },
  {
   "cell_type": "code",
   "execution_count": 1,
   "metadata": {
    "scrolled": false
   },
   "outputs": [
    {
     "name": "stderr",
     "output_type": "stream",
     "text": [
      "/Applications/Anaconda/anaconda3/lib/python3.6/site-packages/h5py/__init__.py:36: FutureWarning: Conversion of the second argument of issubdtype from `float` to `np.floating` is deprecated. In future, it will be treated as `np.float64 == np.dtype(float).type`.\n",
      "  from ._conv import register_converters as _register_converters\n"
     ]
    },
    {
     "data": {
      "text/plain": [
       "<Figure size 640x480 with 1 Axes>"
      ]
     },
     "metadata": {},
     "output_type": "display_data"
    },
    {
     "name": "stdout",
     "output_type": "stream",
     "text": [
      "y = [0], it's a 'non-cat' picture.\n"
     ]
    }
   ],
   "source": [
    "'''\n",
    "Created on 28 Aug 2018\n",
    "\n",
    "@author: marta\n",
    "'''\n",
    "import numpy as np\n",
    "import matplotlib.pyplot as plt\n",
    "import h5py\n",
    "import os\n",
    "\n",
    "# Loading the dataset\n",
    "os.getcwd()\n",
    "train_dataset = h5py.File('trainCats.h5', \"r\")\n",
    "trainSetX = np.array(train_dataset[\"train_set_x\"][:]) # your train set features -- print(trainSetX.shape) -- (209, 64, 64, 3)\n",
    "trainSetY = np.array(train_dataset[\"train_set_y\"][:]) # your train set labels -- print(trainSetY.shape) -- (1, 209)\n",
    "trainSetY = trainSetY.reshape((1, trainSetY.shape[0]))\n",
    "\n",
    "test_dataset = h5py.File('testCats.h5', \"r\")\n",
    "testSetX = np.array(test_dataset[\"test_set_x\"][:]) # your test set features -- print(testSetX.shape) -- (50, 64, 64, 3)\n",
    "testSetY = np.array(test_dataset[\"test_set_y\"][:]) # your test set labels -- print(testSetY.shape) -- (1, 50)\n",
    "testSetY = testSetY.reshape((1, testSetY.shape[0]))\n",
    "\n",
    "classes = np.array(test_dataset[\"list_classes\"][:]) # the list of classes\n",
    "\n",
    "# Example of a picture\n",
    "index = 20\n",
    "plt.imshow(trainSetX[index])\n",
    "plt.show()\n",
    "print (\"y = \" + str(trainSetY[:, index]) + \", it's a '\" + classes[np.squeeze(trainSetY[:, index])].decode(\"utf-8\") +  \"' picture.\")\n",
    "\n"
   ]
  },
  {
   "cell_type": "code",
   "execution_count": 2,
   "metadata": {},
   "outputs": [
    {
     "name": "stdout",
     "output_type": "stream",
     "text": [
      "(12288, 209)\n",
      "(1, 209)\n",
      "(12288, 50)\n",
      "(1, 50)\n"
     ]
    }
   ],
   "source": [
    "# Flatten the pictures\n",
    "trainSetXF= trainSetX.reshape(trainSetX.shape[0], -1).T # print(trainSetXF.shape) -- (12288, 209)\n",
    "testSetXF = testSetX.reshape(testSetX.shape[0], -1).T # print(testSetXF.shape) -- (12288, 50)\n",
    "\n",
    "# Standardise the dataset\n",
    "trainSetXS = trainSetXF/255\n",
    "testSetXS = testSetXF/255\n",
    "\n",
    "# for key in train_dataset.keys():\n",
    "    # print(key)\n",
    "    \n",
    "# for key in train_dataset.keys():\n",
    "    # print(key)\n",
    "    \n",
    "print(trainSetXF.shape)\n",
    "print(trainSetY.shape)\n",
    "print(testSetXF.shape)\n",
    "print(testSetY.shape)"
   ]
  },
  {
   "cell_type": "code",
   "execution_count": 3,
   "metadata": {},
   "outputs": [],
   "source": [
    "# Define the network of structure\n",
    "# m -- the number of training examples\n",
    "# m_test = the number of test examples\n",
    "m = trainSetXS.shape[1]\n",
    "m_test = testSetXS.shape[1]\n",
    "m_y_train = trainSetY.shape[1]\n",
    "m_y_test = testSetY.shape[1]"
   ]
  },
  {
   "cell_type": "code",
   "execution_count": 8,
   "metadata": {},
   "outputs": [],
   "source": [
    "# Initialize the model's parameters\n",
    "# w -- weights\n",
    "# b -- bias\n",
    "# J -- cost function\n",
    "# lr -- learning rate\n",
    "# n_i -- the number of iteration\n",
    "w = np.zeros((trainSetXS.shape[0],1))\n",
    "b = 0\n",
    "J = 0\n",
    "lr = 0.05\n",
    "n_i = 5000"
   ]
  },
  {
   "cell_type": "code",
   "execution_count": 9,
   "metadata": {},
   "outputs": [],
   "source": [
    "# Activation Function: Sigmoid\n",
    "# z = W^T*X+b\n",
    "# s -- sigmoid function\n",
    "def sigmoid(z):\n",
    "    s = 1 / (1 + np.exp(-z))\n",
    "    return s"
   ]
  },
  {
   "cell_type": "code",
   "execution_count": 11,
   "metadata": {},
   "outputs": [
    {
     "data": {
      "image/png": "[encoded data removed]",
      "text/plain": [
       "<Figure size 432x288 with 1 Axes>"
      ]
     },
     "metadata": {},
     "output_type": "display_data"
    },
    {
     "name": "stdout",
     "output_type": "stream",
     "text": [
      "the train accuracy is  1.0\n",
      "the test accuracy is  0.66\n",
      "(12288, 1)\n",
      "()\n"
     ]
    }
   ],
   "source": [
    "# Update the parameters\n",
    "costValues = []\n",
    "for i in range(n_i):\n",
    "    \n",
    "    # Forward propagation\n",
    "    X = trainSetXS\n",
    "    z = np.dot(w.T, X) + b\n",
    "    a = sigmoid(z)\n",
    "    \n",
    "    # Cost function (J)\n",
    "    Y = trainSetY\n",
    "    J = -1/m * np.sum((Y * np.log(a), (1-Y) * np.log(1-a)))\n",
    "    \n",
    "    # Gradient Descent\n",
    "    dw = 1/m * np.dot(X, (a-Y).T)\n",
    "    db = 1/m * np.sum(a-Y)\n",
    "    \n",
    "    w = w - lr * dw\n",
    "    b = b - lr * db\n",
    "        \n",
    "    costValues.append(J)\n",
    "    \n",
    "# print(costValues)\n",
    "\n",
    "# costValues array with the costs for each iteration\n",
    "plt.plot(costValues)\n",
    "plt.ylabel('Cost')\n",
    "plt.xlabel('Iterations')\n",
    "plt.show()\n",
    "\n",
    "# Accuracy\n",
    "# y_predict_train -- the prediction of train set\n",
    "# y_predict_test -- the prediction of test set\n",
    "\n",
    "y_predict_train = sigmoid(np.dot(w.T, trainSetXF) + b)\n",
    "y_predict_test = sigmoid(np.dot(w.T, testSetXF) + b)\n",
    "\n",
    "print('the train accuracy is ', np.mean(y_predict_train == trainSetY)) # average similarity between two sets\n",
    "print('the test accuracy is ', np.mean(y_predict_test == testSetY))\n",
    "\n",
    "print(w.shape)\n",
    "print(b.shape)"
   ]
  },
  {
   "cell_type": "code",
   "execution_count": null,
   "metadata": {},
   "outputs": [],
   "source": []
  },
  {
   "cell_type": "code",
   "execution_count": null,
   "metadata": {},
   "outputs": [],
   "source": []
  }
 ],
 "metadata": {
  "kernelspec": {
   "display_name": "Python 3",
   "language": "python",
   "name": "python3"
  },
  "language_info": {
   "codemirror_mode": {
    "name": "ipython",
    "version": 3
   },
   "file_extension": ".py",
   "mimetype": "text/x-python",
   "name": "python",
   "nbconvert_exporter": "python",
   "pygments_lexer": "ipython3",
   "version": "3.6.5"
  }
 },
 "nbformat": 4,
 "nbformat_minor": 2
}
