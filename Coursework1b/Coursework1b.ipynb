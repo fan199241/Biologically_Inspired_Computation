{
 "cells": [
  {
   "cell_type": "markdown",
   "metadata": {},
   "source": [
    "# Coursework1"
   ]
  },
  {
   "cell_type": "code",
   "execution_count": 83,
   "metadata": {
    "scrolled": false
   },
   "outputs": [
    {
     "data": {
      "image/png": "[encoded data removed]",
      "text/plain": [
       "<Figure size 432x288 with 1 Axes>"
      ]
     },
     "metadata": {},
     "output_type": "display_data"
    }
   ],
   "source": [
    "import numpy as np\n",
    "import matplotlib.pyplot as plt\n",
    "import pandas as pd\n",
    "import os\n",
    "from sklearn import preprocessing\n",
    "\n",
    "# Loading the dataset\n",
    "os.getcwd()\n",
    "train_dataset = pd.read_csv(\"fashion-mnist_train.csv\")\n",
    "\n",
    "train_x = []\n",
    "for i in range(0, 600):\n",
    "    first_row_train = np.array(train_dataset.iloc[i][1:])\n",
    "    picture_train = np.reshape(first_row_train, (28, 28))\n",
    "    train_x.append(picture_train)\n",
    "    \n",
    "trainSetX = np.array(train_x) # your train set features -- print(trainSetX.shape) -- (6000, 28, 28)         \n",
    "trainSetY = np.array(train_dataset.label[0:600][:]) \n",
    "trainSetY = trainSetY.reshape((1, trainSetY.shape[0])).T \n",
    "binarizer = preprocessing.LabelBinarizer()\n",
    "trainSetY = binarizer.fit_transform(trainSetY) # your train set labels -- print(trainSetY.shape) -- (6000，10)\n",
    "\n",
    "test_dataset = pd.read_csv(\"fashion-mnist_test.csv\")\n",
    "test_x = []\n",
    "for i in range(0, 10000):\n",
    "    first_row_test = np.array(test_dataset.iloc[i][1:])\n",
    "    picture_test = np.reshape(first_row_test, (28, 28))\n",
    "    test_x.append(picture_test)\n",
    "\n",
    "testSetX = np.array(test_x) # your test set features -- print(testSetX.shape) -- (1000, 28, 28)\n",
    "testSetY = np.array(test_dataset.label[0:10000][:]) \n",
    "testSetY = testSetY.reshape((1, testSetY.shape[0])).T\n",
    "binarizer = preprocessing.LabelBinarizer()\n",
    "testSetY = binarizer.fit_transform(testSetY) # your test set labels -- print(testSetY.shape) -- (1000, 10)\n",
    "\n",
    "# Example of a picture\n",
    "index = 20\n",
    "plt.imshow(trainSetX[index])\n",
    "plt.show()\n"
   ]
  },
  {
   "cell_type": "code",
   "execution_count": 84,
   "metadata": {},
   "outputs": [],
   "source": [
    "# Flatten the pictures\n",
    "trainSetXF= trainSetX.reshape(trainSetX.shape[0], -1).T # print(trainSetXF.shape) -- (784, 6000)\n",
    "testSetXF = testSetX.reshape(testSetX.shape[0], -1).T # print(testSetXF.shape) -- (784, 1000)\n",
    "\n",
    "# Standardise the dataset\n",
    "trainSetXS = trainSetXF/255\n",
    "testSetXS = testSetXF/255\n",
    "\n",
    "#print(trainSetXS.shape)\n",
    "#print(testSetXS.shape)\n",
    "#print(testSetY.shape)\n",
    "#print(trainSetY.shape)"
   ]
  },
  {
   "cell_type": "code",
   "execution_count": 85,
   "metadata": {},
   "outputs": [],
   "source": [
    "# Topology: define the network of structure\n",
    "\n",
    "# m -- the number of train examples\n",
    "# m_test -- the number of test examples\n",
    "# n_i -- number of input units - 28 by 28 pixel images\n",
    "# n_h_l -- number of hidden layers \n",
    "# n_h -- number of hidden neurons - 2/3 * n_i + n_o\n",
    "# n_o -- number of outputs - 10 target classes \n",
    "\n",
    "n_i = trainSetXS.shape[0]\n",
    "n_h_l = 1\n",
    "n_o = 10\n",
    "\n",
    "# Activation Function: Tanh - hidden layers\n",
    "# z = W^T*X+b\n",
    "# t -- tanh activation function\n",
    "def tanh(z):\n",
    "    t = (np.exp(z) - np.exp(-z)) / (np.exp(z) + np.exp(-z))\n",
    "    return t\n",
    "\n",
    "# Activation Function: Softmax - output layer\n",
    "# z = W^T*X+b\n",
    "# s -- softmax activation function\n",
    "def softmax(z):\n",
    "    s = np.exp(z)/np.sum(np.exp(z),axis=0)\n",
    "    return s\n"
   ]
  },
  {
   "cell_type": "code",
   "execution_count": 86,
   "metadata": {},
   "outputs": [],
   "source": [
    "# Initialize the model's parameters\n",
    "def initialize_parameters(n_i, n_h, n_o):\n",
    "\n",
    "    # w1 -- weight matrix of shape (n_i, n_h)\n",
    "    # w2 -- weight matrix of shape (n_h, n_o)\n",
    "    # b1 -- bias vector of shape (n_h, 1)\n",
    "    # b2 -- bias vector of shape (n_o, 1)  \n",
    "    w1 = np.random.random(size = (n_i, n_h)) - 0.5\n",
    "    w2 = np.random.random(size = (n_h, n_o)) - 0.5\n",
    "    b1 = np.zeros((n_h, 1))\n",
    "    b2 = np.zeros((n_o, 1))\n",
    "    \n",
    "    parameters = {\"w1\": w1,\n",
    "                  \"w2\": w2,\n",
    "                  \"b1\": b1,\n",
    "                  \"b2\": b2}\n",
    "    \n",
    "    return parameters"
   ]
  },
  {
   "cell_type": "code",
   "execution_count": 87,
   "metadata": {},
   "outputs": [],
   "source": [
    "# Forward propagation\n",
    "def forward_propagation(X, parameters):\n",
    "    \n",
    "    w1 = parameters[\"w1\"]\n",
    "    b1 = parameters[\"b1\"]\n",
    "    w2 = parameters[\"w2\"]\n",
    "    b2 = parameters[\"b2\"]\n",
    "    \n",
    "    Z1 = np.dot(w1.T, X) + b1\n",
    "    A1 = np.tanh(Z1)\n",
    "    Z2 = np.dot(w2.T, A1) + b2  \n",
    "    A2 = softmax(Z2)\n",
    "    \n",
    "    prop = {\"Z1\": Z1,\n",
    "            \"A1\": A1,\n",
    "            \"Z2\": Z2,\n",
    "            \"A2\": A2}\n",
    "    \n",
    "    return A2, prop"
   ]
  },
  {
   "cell_type": "code",
   "execution_count": 88,
   "metadata": {},
   "outputs": [],
   "source": [
    "# Cost calculation with regularization\n",
    "def calculate_cost_with_regularization(A2, Y, parameters, lambd): \n",
    "\n",
    "    # Y -- trainSetY of shape (number of examples, 10)\n",
    "    m = Y.shape[0] # number of example\n",
    "    w1 = parameters[\"w1\"]\n",
    "    w2 = parameters[\"w2\"]\n",
    "    \n",
    "    # Cost function (J) -- Loss function: -y*log(y^)\n",
    "    J = (-1/m) * np.sum(np.dot(Y, np.log(A2)))\n",
    "    \n",
    "    # Cost function with regularization L2 (J_r)\n",
    "    R = lambd/(2 * m) * (np.sum(np.square(w1)) + np.sum(np.square(w2)))   \n",
    "    J_r = J + R\n",
    "    \n",
    "    return J_r"
   ]
  },
  {
   "cell_type": "code",
   "execution_count": 89,
   "metadata": {},
   "outputs": [],
   "source": [
    "# Backpropagation -- with regularization\n",
    "def backpropagation_with_regularization(X, Y, prop, parameters, lambd): \n",
    "\n",
    "    # X -- training data of size (n_i, m)\n",
    "    # Y -- trainSetY of shape (n_o, number of examples)\n",
    "    m = X.shape[1]\n",
    "    A1 = prop[\"A1\"]\n",
    "    A2 = prop[\"A2\"]\n",
    "    w1 = parameters[\"w1\"]\n",
    "    w2 = parameters[\"w2\"]\n",
    "    \n",
    "    # lambd -- regularization hyperparameter\n",
    "    dZ2 = A2 - Y.T\n",
    "    dw2 = (1/m) * np.dot(dZ2, A1.T).T + (lambd/m)*w2 # add the regularization term\n",
    "    db2 = (1/m) * np.sum(dZ2)\n",
    "    \n",
    "    dZ1 = np.dot(w2, dZ2) * (1 - np.power(A1, 2))\n",
    "    dw1 = (1/m) * np.dot(dZ1, X.T).T + (lambd/m)*w1 # add the regularization term\n",
    "    db1 = (1/m) * np.sum(dZ1)\n",
    "    \n",
    "    grads = {\"dw1\": dw1,\n",
    "             \"db1\": db1,\n",
    "             \"dw2\": dw2,\n",
    "             \"db2\": db2}\n",
    "    \n",
    "    return grads"
   ]
  },
  {
   "cell_type": "code",
   "execution_count": 90,
   "metadata": {},
   "outputs": [],
   "source": [
    "# Update the parameters by using gradient descent  \n",
    "# lr -- learning rate\n",
    "def update_parameters(parameters, grads, lr):\n",
    "    \n",
    "    w1 = parameters[\"w1\"]\n",
    "    b1 = parameters[\"b1\"]\n",
    "    w2 = parameters[\"w2\"]\n",
    "    b2 = parameters[\"b2\"]\n",
    "    \n",
    "    dw1 = grads[\"dw1\"]\n",
    "    db1 = grads[\"db1\"]\n",
    "    dw2 = grads[\"dw2\"]\n",
    "    db2 = grads[\"db2\"]\n",
    "    \n",
    "    # Gradient descent -- update parameters\n",
    "    w1 = w1 - lr * dw1\n",
    "    b1 = b1 - lr * db1\n",
    "    w2 = w2 - lr * dw2\n",
    "    b2 = b2 - lr * db2\n",
    "\n",
    "    parameters = {\"w1\": w1,\n",
    "                  \"b1\": b1,\n",
    "                  \"w2\": w2,\n",
    "                  \"b2\": b2}\n",
    "    \n",
    "    return parameters"
   ]
  },
  {
   "cell_type": "code",
   "execution_count": 91,
   "metadata": {},
   "outputs": [],
   "source": [
    "# Model\n",
    "# n_ite -- the number of iteration\n",
    "def model(X, Y, n_h, n_ite, lr, lambd, print_cost = False): \n",
    "    # X -- dataset of shape (n_i, number of examples)\n",
    "    # Y -- labels of shape (number of examples, n_o)\n",
    "    # n_h -- hidden layer units number\n",
    "    \n",
    "    n_i = X.shape[0]\n",
    "    n_o = Y.shape[1]\n",
    "    \n",
    "    parameters = initialize_parameters(n_i, n_h, n_o)\n",
    "    w1 = parameters[\"w1\"]\n",
    "    b1 = parameters[\"b1\"]\n",
    "    w2 = parameters[\"w2\"]\n",
    "    b2 = parameters[\"b2\"]\n",
    "    \n",
    "    # Loop until convergence\n",
    "    costValues = []\n",
    "    for i in range(0, n_ite):\n",
    "        \n",
    "        # Forward propagation\n",
    "        A2, prop = forward_propagation(X, parameters)\n",
    "        \n",
    "        # Cost function\n",
    "        J_r = calculate_cost_with_regularization(A2, Y, parameters, lambd) \n",
    "        costValues.append(J_r)\n",
    " \n",
    "        # Backpropagation\n",
    "        grads = backpropagation_with_regularization(X, Y, prop, parameters, lambd) \n",
    " \n",
    "        # Update the parameters by using gradient descent \n",
    "        parameters = update_parameters(parameters, grads, lr)\n",
    "        \n",
    "        # trained model\n",
    "        trained_model = {\n",
    "            \"layer_sizes\": (n_i, n_h, n_o),\n",
    "            \"learning_rate\": lr,\n",
    "            \"costValues\": J_r,\n",
    "            \"parameters\": parameters\n",
    "        }\n",
    "\n",
    "        # Print the cost every 100 iterations\n",
    "        if print_cost and i % 100 == 0:\n",
    "            print (\"Cost after iteration %i: %f\" %(i, J_r))\n",
    "            \n",
    "    # plot the cost\n",
    "    plt.plot(costValues)\n",
    "    plt.ylabel('Cost')\n",
    "    plt.xlabel('Iterations')\n",
    "    plt.show()\n",
    "\n",
    "    return trained_model"
   ]
  },
  {
   "cell_type": "code",
   "execution_count": 92,
   "metadata": {},
   "outputs": [
    {
     "name": "stdout",
     "output_type": "stream",
     "text": [
      "Cost after iteration 0: 5718.041903\n",
      "Cost after iteration 100: 5149.308519\n",
      "Cost after iteration 200: 4765.398431\n",
      "Cost after iteration 300: 4491.570137\n",
      "Cost after iteration 400: 4290.388597\n"
     ]
    },
    {
     "data": {
      "image/png": "[encoded data removed]",
      "text/plain": [
       "<Figure size 432x288 with 1 Axes>"
      ]
     },
     "metadata": {},
     "output_type": "display_data"
    }
   ],
   "source": [
    "trained_model = model(trainSetXS, trainSetY, n_h = 533, n_ite = 500, lr=0.0001, lambd = 0.7, print_cost = True) \n"
   ]
  },
  {
   "cell_type": "code",
   "execution_count": 93,
   "metadata": {},
   "outputs": [],
   "source": [
    "# Prediction\n",
    "def predictions(X):\n",
    "      \n",
    "    parameters = trained_model[\"parameters\"]\n",
    "    \n",
    "    w1 = parameters[\"w1\"]\n",
    "    b1 = parameters[\"b1\"]\n",
    "    w2 = parameters[\"w2\"]\n",
    "    b2 = parameters[\"b2\"]\n",
    "    \n",
    "    predictions = softmax(np.dot(w2.T, np.tanh(np.dot(w1.T, X) + b1)) + b2)\n",
    "    \n",
    "    for j in range(predictions.shape[1]):   \n",
    "        for i in range(predictions.shape[0]):\n",
    "            if predictions[i, j] <= 0.5:\n",
    "                predictions[i, j] = 0\n",
    "            else:\n",
    "                predictions[i, j] = 1\n",
    "    \n",
    "    return predictions"
   ]
  },
  {
   "cell_type": "code",
   "execution_count": 94,
   "metadata": {},
   "outputs": [
    {
     "name": "stdout",
     "output_type": "stream",
     "text": [
      "the train accuracy is  0.8345\n",
      "the test accuracy is  0.83197\n"
     ]
    }
   ],
   "source": [
    "# Accuracy\n",
    "# y_predict_train -- the prediction of train set\n",
    "# y_predict_test -- the prediction of test set\n",
    "\n",
    "\n",
    "y_predict_train = predictions(trainSetXS)\n",
    "y_predict_test = predictions(testSetXS)\n",
    "\n",
    "print('the train accuracy is ', np.mean(y_predict_train == trainSetY.T)) # average similarity between two sets\n",
    "#print(y_predict_test)\n",
    "print('the test accuracy is ', np.mean(y_predict_test == testSetY.T))\n"
   ]
  },
  {
   "cell_type": "code",
   "execution_count": null,
   "metadata": {},
   "outputs": [],
   "source": []
  }
 ],
 "metadata": {
  "kernelspec": {
   "display_name": "Python 3",
   "language": "python",
   "name": "python3"
  },
  "language_info": {
   "codemirror_mode": {
    "name": "ipython",
    "version": 3
   },
   "file_extension": ".py",
   "mimetype": "text/x-python",
   "name": "python",
   "nbconvert_exporter": "python",
   "pygments_lexer": "ipython3",
   "version": "3.6.5"
  }
 },
 "nbformat": 4,
 "nbformat_minor": 2
}
